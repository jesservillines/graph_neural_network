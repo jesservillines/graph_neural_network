{
 "cells": [
  {
   "cell_type": "markdown",
   "metadata": {},
   "source": [
    "## 8. Model Optimization with Optuna"
   ]
  },
  {
   "cell_type": "code",
   "execution_count": null,
   "metadata": {},
   "outputs": [],
   "source": [
    "def objective(trial):\n",
    "    # Hyperparameters to optimize\n",
    "    hidden_dim = trial.suggest_int('hidden_dim', 32, 256)\n",
    "    num_heads = trial.suggest_int('num_heads', 2, 8)\n",
    "    learning_rate = trial.suggest_float('learning_rate', 1e-4, 1e-2, log=True)\n",
    "    dropout_rate = trial.suggest_float('dropout_rate', 0.1, 0.7)\n",
    "    edge_threshold = trial.suggest_float('edge_threshold', 0.3, 0.8)\n",
    "    \n",
    "    # Create model with trial parameters\n",
    "    model = GNNModel(\n",
    "        input_dim=X.shape[1],\n",
    "        hidden_dim=hidden_dim,\n",
    "        num_heads=num_heads\n",
    "    ).to(device)\n",
    "    \n",
    "    optimizer = torch.optim.Adam(model.parameters(), lr=learning_rate)\n",
    "    \n",
    "    # Training loop\n",
    "    val_losses = []\n",
    "    for epoch in range(100):\n",
    "        train_loss = train_model(model, train_loader, optimizer, device)\n",
    "        val_loss = evaluate_model(model, val_loader, device)\n",
    "        val_losses.append(val_loss)\n",
    "        \n",
    "        # Early stopping\n",
    "        if epoch > 10 and val_losses[-1] > val_losses[-2]:\n",
    "            break\n",
    "    \n",
    "    return min(val_losses)"
   ]
  },
  {
   "cell_type": "markdown",
   "metadata": {},
   "source": [
    "## 9. Advanced Feature Engineering"
   ]
  },
  {
   "cell_type": "code",
   "execution_count": null,
   "metadata": {},
   "outputs": [],
   "source": [
    "def engineer_advanced_features(df):\n",
    "    \"\"\"\n",
    "    Create advanced features for the model\n",
    "    \"\"\"\n",
    "    # Age-related interactions\n",
    "    df['age_comorbidity_interaction'] = df['admit_age'] * df['age_adj_comorbidity_score']\n",
    "    \n",
    "    # Injury severity composite\n",
    "    df['injury_severity_score'] = (\n",
    "        df['brain_injury_mild/_moderate'].astype(float) * 1 +\n",
    "        df['brain_injury_severe'].astype(float) * 2\n",
    "    )\n",
    "    \n",
    "    # Medical complexity index\n",
    "    complexity_columns = [\n",
    "        'diabetes', 'hypertension', 'heart_disease',\n",
    "        'neurological_disorder', 'psychiatric_disorder'\n",
    "    ]\n",
    "    df['medical_complexity_index'] = df[complexity_columns].sum(axis=1)\n",
    "    \n",
    "    # Functional status composite\n",
    "    df['functional_status_score'] = (\n",
    "        df['motor_score'].astype(float) +\n",
    "        df['pre-injury_function'].astype(float)\n",
    "    )\n",
    "    \n",
    "    return df\n",
    "\n",
    "# Apply advanced feature engineering\n",
    "df = engineer_advanced_features(df)"
   ]
  },
  {
   "cell_type": "markdown",
   "metadata": {},
   "source": [
    "## 10. Custom Loss Function"
   ]
  },
  {
   "cell_type": "code",
   "execution_count": null,
   "metadata": {},
   "outputs": [],
   "source": [
    "class WeightedMSELoss(torch.nn.Module):\n",
    "    def __init__(self, threshold=7):\n",
    "        super(WeightedMSELoss, self).__init__()\n",
    "        self.threshold = threshold\n",
    "        \n",
    "    def forward(self, pred, target):\n",
    "        # Higher weight for longer stays\n",
    "        weights = torch.where(target > self.threshold,\n",
    "                            torch.ones_like(target) * 2.0,\n",
    "                            torch.ones_like(target))\n",
    "        \n",
    "        return torch.mean(weights * (pred - target) ** 2)\n",
    "\n",
    "# Use custom loss function\n",
    "criterion = WeightedMSELoss()"
   ]
  },
  {
   "cell_type": "markdown",
   "metadata": {},
   "source": [
    "## 11. Patient Subgroup Analysis"
   ]
  },
  {
   "cell_type": "code",
   "execution_count": null,
   "metadata": {},
   "outputs": [],
   "source": [
    "def analyze_patient_subgroups(embeddings, labels, n_clusters=5):\n",
    "    \"\"\"\n",
    "    Perform patient subgroup analysis using clustering\n",
    "    \"\"\"\n",
    "    from sklearn.cluster import KMeans\n",
    "    \n",
    "    # Cluster patients\n",
    "    kmeans = KMeans(n_clusters=n_clusters, random_state=42)\n",
    "    clusters = kmeans.fit_predict(embeddings)\n",
    "    \n",
    "    # Analyze characteristics of each cluster\n",
    "    cluster_stats = []\n",
    "    for i in range(n_clusters):\n",
    "        cluster_mask = clusters == i\n",
    "        stats = {\n",
    "            'cluster': i,\n",
    "            'size': np.sum(cluster_mask),\n",
    "            'avg_los': np.mean(labels[cluster_mask]),\n",
    "            'std_los': np.std(labels[cluster_mask])\n",
    "        }\n",
    "        cluster_stats.append(stats)\n",
    "    \n",
    "    return pd.DataFrame(cluster_stats)"
   ]
  },
  {
   "cell_type": "markdown",
   "metadata": {},
   "source": [
    "## 12. Real-time Prediction Setup"
   ]
  },
  {
   "cell_type": "code",
   "execution_count": null,
   "metadata": {},
   "outputs": [],
   "source": [
    "class RealTimePredictionPipeline:\n",
    "    def __init__(self, model, scaler, feature_names):\n",
    "        self.model = model\n",
    "        self.scaler = scaler\n",
    "        self.feature_names = feature_names\n",
    "    \n",
    "    def preprocess_patient(self, patient_data):\n",
    "        \"\"\"\n",
    "        Preprocess a single patient's data\n",
    "        \"\"\"\n",
    "        # Ensure all features are present\n",
    "        for feature in self.feature_names:\n",
    "            if feature not in patient_data:\n",
    "                raise ValueError(f\"Missing feature: {feature}\")\n",
    "        \n",
    "        # Convert to array and scale\n",
    "        X = np.array([patient_data[f] for f in self.feature_names]).reshape(1, -1)\n",
    "        X_scaled = self.scaler.transform(X)\n",
    "        return torch.FloatTensor(X_scaled)\n",
    "    \n",
    "    def predict(self, patient_data):\n",
    "        \"\"\"\n",
    "        Make real-time prediction for a patient\n",
    "        \"\"\"\n",
    "        self.model.eval()\n",
    "        with torch.no_grad():\n",
    "            X = self.preprocess_patient(patient_data)\n",
    "            pred = self.model(X)\n",
    "            return pred.item()"
   ]
  },
  {
   "cell_type": "markdown",
   "metadata": {},
   "source": [
    "## 13. Model Evaluation and Validation"
   ]
  },
  {
   "cell_type": "code",
   "execution_count": null,
   "metadata": {},
   "outputs": [],
   "source": [
    "def evaluate_comprehensive(model, test_loader, device):\n",
    "    \"\"\"\n",
    "    Comprehensive model evaluation\n",
    "    \"\"\"\n",
    "    model.eval()\n",
    "    predictions = []\n",
    "    actuals = []\n",
    "    \n",
    "    with torch.no_grad():\n",
    "        for data in test_loader:\n",
    "            data = data.to(device)\n",
    "            out = model(data.x, data.edge_index, data.batch)\n",
    "            predictions.extend(out.cpu().numpy())\n",
    "            actuals.extend(data.y.cpu().numpy())\n",
    "    \n",
    "    predictions = np.array(predictions)\n",
    "    actuals = np.array(actuals)\n",
    "    \n",
    "    # Calculate metrics\n",
    "    mse = np.mean((predictions - actuals) ** 2)\n",
    "    mae = np.mean(np.abs(predictions - actuals))\n",
    "    r2 = 1 - np.sum((actuals - predictions) ** 2) / np.sum((actuals - np.mean(actuals)) ** 2)\n",
    "    \n",
    "    return {\n",
    "        'mse': mse,\n",
    "        'rmse': np.sqrt(mse),\n",
    "        'mae': mae,\n",
    "        'r2': r2\n",
    "    }"
   ]
  }
 ],
 "metadata": {
  "kernelspec": {
   "display_name": "Python 3",
   "language": "python",
   "name": "python3"
  },
  "language_info": {
   "codemirror_mode": {
    "name": "ipython",
    "version": 3
   },
   "file_extension": ".py",
   "mimetype": "text/x-python",
   "name": "python",
   "nbconvert_exporter": "python",
   "pygments_lexer": "ipython3",
   "version": "3.8.0"
  }
 },
 "nbformat": 4,
 "nbformat_minor": 4
}