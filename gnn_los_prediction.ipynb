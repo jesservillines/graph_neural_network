{
 "cells": [
  {
   "cell_type": "markdown",
   "metadata": {},
   "source": [
    "# Graph Neural Network for Length of Stay Prediction\n",
    "\n",
    "This notebook implements a Graph Neural Network (GNN) to predict patient length of stay using PyTorch Geometric."
   ]
  },
  {
   "cell_type": "code",
   "execution_count": null,
   "metadata": {},
   "source": [
    "import pandas as pd\n",
    "import numpy as np\n",
    "import torch\n",
    "import torch.nn.functional as F\n",
    "from torch_geometric.data import Data\n",
    "from torch_geometric.nn import GCNConv, GATv2Conv, global_mean_pool\n",
    "from sklearn.model_selection import train_test_split\n",
    "from sklearn.preprocessing import StandardScaler\n",
    "import plotly.graph_objects as go\n",
    "import networkx as nx\n",
    "import umap\n",
    "import shap\n",
    "from tqdm import tqdm\n",
    "import optuna"
   ]
  },
  {
   "cell_type": "markdown",
   "metadata": {},
   "source": [
    "## 1. Data Loading and Preprocessing"
   ]
  },
  {
   "cell_type": "code",
   "execution_count": null,
   "metadata": {},
   "source": [
    "# Load the dataset\n",
    "df = pd.read_csv('model_df_12_02_24.csv')\n",
    "\n",
    "# Define feature groups\n",
    "demographic_features = ['admit_age', 'admit_bmi']\n",
    "clinical_features = ['brain_injury_mild/_moderate', 'brain_injury_severe', \n",
    "                    'vent_at_admission', 'trach_patient', 'motor_score']\n",
    "comorbidity_features = ['diabetes', 'hypertension', 'heart_disease', \n",
    "                       'neurological_disorder', 'psychiatric_disorder']\n",
    "\n",
    "# Feature selection using SHAP values will be implemented here\n",
    "def select_features_shap(df, target_col):\n",
    "    # Implementation of SHAP-based feature selection\n",
    "    pass\n",
    "\n",
    "# Create graph structure\n",
    "def create_patient_graph(features, edge_threshold=0.5):\n",
    "    # Implementation of graph creation using patient similarity\n",
    "    pass"
   ]
  },
  {
   "cell_type": "markdown",
   "metadata": {},
   "source": [
    "## 2. Graph Neural Network Model"
   ]
  },
  {
   "cell_type": "code",
   "execution_count": null,
   "metadata": {},
   "source": [
    "class GNNModel(torch.nn.Module):\n",
    "    def __init__(self, input_dim, hidden_dim=64, num_heads=4):\n",
    "        super(GNNModel, self).__init__()\n",
    "        self.conv1 = GATv2Conv(input_dim, hidden_dim, heads=num_heads)\n",
    "        self.conv2 = GATv2Conv(hidden_dim * num_heads, hidden_dim, heads=1)\n",
    "        self.lin1 = torch.nn.Linear(hidden_dim, hidden_dim)\n",
    "        self.lin2 = torch.nn.Linear(hidden_dim, 1)\n",
    "        \n",
    "    def forward(self, x, edge_index, batch):\n",
    "        x = F.elu(self.conv1(x, edge_index))\n",
    "        x = F.dropout(x, p=0.5, training=self.training)\n",
    "        x = self.conv2(x, edge_index)\n",
    "        x = global_mean_pool(x, batch)\n",
    "        x = F.elu(self.lin1(x))\n",
    "        x = self.lin2(x)\n",
    "        return x"
   ]
  },
  {
   "cell_type": "markdown",
   "metadata": {},
   "source": [
    "## 3. Training and Evaluation"
   ]
  },
  {
   "cell_type": "code",
   "execution_count": null,
   "metadata": {},
   "source": [
    "def train_model(model, train_loader, optimizer, device):\n",
    "    model.train()\n",
    "    total_loss = 0\n",
    "    for data in train_loader:\n",
    "        data = data.to(device)\n",
    "        optimizer.zero_grad()\n",
    "        out = model(data.x, data.edge_index, data.batch)\n",
    "        loss = F.mse_loss(out, data.y)\n",
    "        loss.backward()\n",
    "        optimizer.step()\n",
    "        total_loss += loss.item()\n",
    "    return total_loss / len(train_loader)"
   ]
  },
  {
   "cell_type": "markdown",
   "metadata": {},
   "source": [
    "## 4. 3D Visualization"
   ]
  },
  {
   "cell_type": "code",
   "execution_count": null,
   "metadata": {},
   "source": [
    "def visualize_graph_3d(graph, embeddings, labels):\n",
    "    reducer = umap.UMAP(n_components=3, random_state=42)\n",
    "    embedding_3d = reducer.fit_transform(embeddings)\n",
    "    \n",
    "    # Create 3D visualization using plotly\n",
    "    fig = go.Figure(data=[go.Scatter3d(\n",
    "        x=embedding_3d[:, 0],\n",
    "        y=embedding_3d[:, 1],\n",
    "        z=embedding_3d[:, 2],\n",
    "        mode='markers',\n",
    "        marker=dict(\n",
    "            size=5,\n",
    "            color=labels,\n",
    "            colorscale='Viridis',\n",
    "            opacity=0.8\n",
    "        )\n",
    "    )])\n",
    "    \n",
    "    fig.update_layout(title='3D Patient Graph Visualization')\n",
    "    fig.show()"
   ]
  },
  {
   "cell_type": "markdown",
   "metadata": {},
   "source": [
    "## 5. Model Explainability"
   ]
  },
  {
   "cell_type": "code",
   "execution_count": null,
   "metadata": {},
   "source": [
    "def explain_predictions(model, data):\n",
    "    # Implementation of SHAP values for GNN\n",
    "    explainer = shap.DeepExplainer(model, data)\n",
    "    shap_values = explainer.shap_values(data)\n",
    "    \n",
    "    # Visualization of feature importance\n",
    "    shap.summary_plot(shap_values, data)"
   ]
  }
 ],
 "metadata": {
  "kernelspec": {
   "display_name": "Python 3",
   "language": "python",
   "name": "python3"
  }
 },
 "nbformat": 4,
 "nbformat_minor": 4
}