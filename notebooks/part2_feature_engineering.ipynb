{
 "cells": [
  {
   "cell_type": "markdown",
   "metadata": {},
   "source": [
    "# Part 2: Feature Engineering and Selection\n",
    "\n",
    "This notebook focuses on feature engineering, selection, and analysis for the Length of Stay prediction project."
   ]
  },
  {
   "cell_type": "code",
   "execution_count": null,
   "metadata": {},
   "outputs": [],
   "source": [
    "# Import required libraries\n",
    "import sys\n",
    "sys.path.append('..')\n",
    "\n",
    "import pandas as pd\n",
    "import numpy as np\n",
    "import plotly.express as px\n",
    "import plotly.graph_objects as go\n",
    "from IPython.display import display, HTML\n",
    "import ipywidgets as widgets\n",
    "import seaborn as sns\n",
    "import matplotlib.pyplot as plt\n",
    "\n",
    "from src.config.config import ModelConfig\n",
    "from src.utils.feature_engineering import engineer_features\n",
    "from src.utils.feature_selection import select_features_shap"
   ]
  },
  {
   "cell_type": "markdown",
   "metadata": {},
   "source": [
    "## 1. Load Processed Data"
   ]
  },
  {
   "cell_type": "code",
   "execution_count": null,
   "metadata": {},
   "outputs": [],
   "source": [
    "# Load data from Part 1\n",
    "df = pd.read_pickle('data/initial_df.pkl')\n",
    "print(\"Loaded initial dataset with shape:\", df.shape)\n",
    "display(df.head())"
   ]
  },
  {
   "cell_type": "markdown",
   "metadata": {},
   "source": [
    "## 2. Feature Engineering"
   ]
  },
  {
   "cell_type": "code",
   "execution_count": null,
   "metadata": {},
   "outputs": [],
   "source": [
    "# Apply feature engineering\n",
    "df_engineered = engineer_features(df)\n",
    "\n",
    "# Show new features\n",
    "new_features = set(df_engineered.columns) - set(df.columns)\n",
    "print(\"\\nNewly created features:\")\n",
    "display(df_engineered[list(new_features)].head())\n",
    "\n",
    "# Display summary statistics for new features\n",
    "print(\"\\nSummary statistics for new features:\")\n",
    "display(df_engineered[list(new_features)].describe())"
   ]
  },
  {
   "cell_type": "markdown",
   "metadata": {},
   "source": [
    "## 3. Correlation Analysis"
   ]
  },
  {
   "cell_type": "code",
   "execution_count": null,
   "metadata": {},
   "outputs": [],
   "source": [
    "def plot_correlation_matrix(df, min_correlation=0.0):\n",
    "    \"\"\"Create interactive correlation matrix plot\"\"\"\n",
    "    # Calculate correlation matrix for numeric columns\n",
    "    numeric_cols = df.select_dtypes(include=['float64', 'int64']).columns\n",
    "    corr = df[numeric_cols].corr()\n",
    "    \n",
    "    # Apply threshold mask\n",
    "    mask = np.abs(corr) >= min_correlation\n",
    "    corr_filtered = corr * mask\n",
    "    \n",
    "    # Create heatmap\n",
    "    fig = px.imshow(\n",
    "        corr_filtered,\n",
    "        labels=dict(color=\"Correlation\"),\n",
    "        title=f\"Feature Correlation Matrix (|correlation| ≥ {min_correlation})\",\n",
    "        color_continuous_scale='RdBu',\n",
    "        aspect='auto'\n",
    "    )\n",
    "    \n",
    "    fig.update_layout(\n",
    "        height=800,\n",
    "        width=800,\n",
    "        title_x=0.5\n",
    "    )\n",
    "    \n",
    "    return fig\n",
    "\n",
    "# Create correlation slider widget\n",
    "correlation_slider = widgets.FloatSlider(\n",
    "    value=0.0,\n",
    "    min=0.0,\n",
    "    max=1.0,\n",
    "    step=0.05,\n",
    "    description='Min Correlation:'\n",
    ")\n",
    "\n",
    "widgets.interact(\n",
    "    lambda x: plot_correlation_matrix(df_engineered, x).show(),\n",
    "    min_correlation=correlation_slider\n",
    ")"
   ]
  },
  {
   "cell_type": "markdown",
   "metadata": {},
   "source": [
    "## 4. Feature Selection using SHAP"
   ]
  },
  {
   "cell_type": "code",
   "execution_count": null,
   "metadata": {},
   "outputs": [],
   "source": [
    "# Perform feature selection\n",
    "feature_importance = select_features_shap(df_engineered, 'length_of_stay')\n",
    "\n",
    "# Create feature importance plot\n",
    "fig = px.bar(\n",
    "    feature_importance,\n",
    "    x='importance',\n",
    "    y='feature',\n",
    "    orientation='h',\n",
    "    title='Feature Importance (SHAP values)',\n",
    "    labels={'importance': 'SHAP Value', 'feature': 'Feature'}\n",
    ")\n",
    "\n",
    "fig.update_layout(\n",
    "    height=800,\n",
    "    yaxis={'categoryorder': 'total ascending'},\n",
    "    title_x=0.5\n",
    ")\n",
    "\n",
    "fig.show()"
   ]
  },
  {
   "cell_type": "markdown",
   "metadata": {},
   "source": [
    "## 5. Feature Distribution Analysis"
   ]
  },
  {
   "cell_type": "code",
   "execution_count": null,
   "metadata": {},
   "outputs": [],
   "source": [
    "def analyze_feature_distribution(df, feature):\n",
    "    \"\"\"Create detailed distribution analysis for a feature\"\"\"\n",
    "    fig = go.Figure()\n",
    "    \n",
    "    # Add histogram\n",
    "    fig.add_trace(go.Histogram(\n",
    "        x=df[feature],\n",
    "        name='Distribution',\n",
    "        nbinsx=30\n",
    "    ))\n",
    "    \n",
    "    # Add kernel density estimation if numerical\n",
    "    if df[feature].dtype in ['int64', 'float64']:\n",
    "        from scipy import stats\n",
    "        kde_x = np.linspace(df[feature].min(), df[feature].max(), 100)\n",
    "        kde = stats.gaussian_kde(df[feature].dropna())\n",
    "        fig.add_trace(go.Scatter(\n",
    "            x=kde_x,\n",
    "            y=kde(kde_x) * len(df[feature]) * (df[feature].max() - df[feature].min()) / 30,\n",
    "            name='KDE',\n",
    "            line=dict(color='red')\n",
    "        ))\n",
    "        \n",
    "        # Add relationship with target\n",
    "        corr = df[feature].corr(df['length_of_stay'])\n",
    "        print(f\"Correlation with length_of_stay: {corr:.3f}\")\n",
    "    \n",
    "    fig.update_layout(\n",
    "        title=f'Distribution of {feature}',\n",
    "        xaxis_title=feature,\n",
    "        yaxis_title='Count',\n",
    "        height=500\n",
    "    )\n",
    "    \n",
    "    return fig\n",
    "\n",
    "# Create feature selection dropdown\n",
    "feature_dropdown = widgets.Dropdown(\n",
    "    options=feature_importance['feature'].tolist(),\n",
    "    description='Feature:',\n",
    "    style={'description_width': 'initial'}\n",
    ")\n",
    "\n",
    "widgets.interact(\n",
    "    lambda x: analyze_feature_distribution(df_engineered, x).show(),\n",
    "    feature=feature_dropdown\n",
    ")"
   ]
  },
  {
   "cell_type": "markdown",
   "metadata": {},
   "source": [
    "## 6. Save Processed Data"
   ]
  },
  {
   "cell_type": "code",
   "execution_count": null,
   "metadata": {},
   "outputs": [],
   "source": [
    "# Save engineered data and feature importance\n",
    "df_engineered.to_pickle('data/engineered_df.pkl')\n",
    "feature_importance.to_pickle('data/feature_importance.pkl')\n",
    "\n",
    "print(\"Feature engineering complete. Processed data saved. Proceed to Part 3 for graph construction.\")"
   ]
  }
 ],
 "metadata": {
  "kernelspec": {
   "display_name": "Python 3",
   "language": "python",
   "name": "python3"
  },
  "language_info": {
   "codemirror_mode": {
    "name": "ipython",
    "version": 3
   },
   "file_extension": ".py",
   "mimetype": "text/x-python",
   "name": "python",
   "nbconvert_exporter": "python",
   "pygments_lexer": "ipython3",
   "version": "3.8.0"
  }
 },
 "nbformat": 4,
 "nbformat_minor": 4
}