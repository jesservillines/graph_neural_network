{
 "cells": [
  {
   "cell_type": "markdown",
   "metadata": {},
   "source": [
    "# Part 1: Data Loading and Exploration\n",
    "\n",
    "This notebook covers the initial data loading and exploratory data analysis for the Length of Stay prediction project."
   ]
  },
  {
   "cell_type": "code",
   "execution_count": null,
   "metadata": {},
   "outputs": [],
   "source": [
    "# Import required libraries\n",
    "import sys\n",
    "sys.path.append('..')\n",
    "\n",
    "import pandas as pd\n",
    "import numpy as np\n",
    "import plotly.express as px\n",
    "import plotly.graph_objects as go\n",
    "from IPython.display import display, HTML\n",
    "import ipywidgets as widgets\n",
    "\n",
    "from src.config.config import ModelConfig"
   ]
  },
  {
   "cell_type": "markdown",
   "metadata": {},
   "source": [
    "## 1. Load and Display Data"
   ]
  },
  {
   "cell_type": "code",
   "execution_count": null,
   "metadata": {},
   "outputs": [],
   "source": [
    "# Load configuration\n",
    "config = ModelConfig()\n",
    "\n",
    "# Load data\n",
    "df = pd.read_csv(config.data_path)\n",
    "\n",
    "print(\"Dataset Shape:\", df.shape)\n",
    "print(\"\\nColumns:\", df.columns.tolist())\n",
    "print(\"\\nFirst few rows:\")\n",
    "display(df.head())"
   ]
  },
  {
   "cell_type": "markdown",
   "metadata": {},
   "source": [
    "## 2. Data Quality Check"
   ]
  },
  {
   "cell_type": "code",
   "execution_count": null,
   "metadata": {},
   "outputs": [],
   "source": [
    "# Display data info\n",
    "data_info = pd.DataFrame({\n",
    "    'dtype': df.dtypes,\n",
    "    'non_null': df.count(),\n",
    "    'null_count': df.isnull().sum(),\n",
    "    'unique_values': df.nunique(),\n",
    "    'memory_usage': df.memory_usage(deep=True)\n",
    "})\n",
    "\n",
    "print(\"Data Quality Summary:\")\n",
    "display(data_info)"
   ]
  },
  {
   "cell_type": "markdown",
   "metadata": {},
   "source": [
    "## 3. Interactive Data Exploration"
   ]
  },
  {
   "cell_type": "code",
   "execution_count": null,
   "metadata": {},
   "outputs": [],
   "source": [
    "def create_distribution_plot(df, column):\n",
    "    \"\"\"Create appropriate distribution plot based on data type\"\"\"\n",
    "    if df[column].dtype in ['int64', 'float64']:\n",
    "        # Numerical data\n",
    "        fig = go.Figure()\n",
    "        fig.add_trace(go.Histogram(\n",
    "            x=df[column],\n",
    "            name=column,\n",
    "            nbinsx=30\n",
    "        ))\n",
    "        fig.add_trace(go.Histogram(\n",
    "            x=df[column],\n",
    "            histnorm='probability density',\n",
    "            name='density'\n",
    "        ))\n",
    "        fig.update_layout(\n",
    "            title=f'Distribution of {column}',\n",
    "            barmode='overlay'\n",
    "        )\n",
    "    else:\n",
    "        # Categorical data\n",
    "        value_counts = df[column].value_counts()\n",
    "        fig = go.Figure(go.Bar(\n",
    "            x=value_counts.index,\n",
    "            y=value_counts.values,\n",
    "            text=value_counts.values,\n",
    "            textposition='auto'\n",
    "        ))\n",
    "        fig.update_layout(title=f'Value Counts for {column}')\n",
    "    \n",
    "    return fig\n",
    "\n",
    "def create_summary_widget(df):\n",
    "    \"\"\"Create interactive widget for data exploration\"\"\"\n",
    "    columns = list(df.columns)\n",
    "    dropdown = widgets.Dropdown(\n",
    "        options=columns,\n",
    "        description='Select Column:',\n",
    "        style={'description_width': 'initial'}\n",
    "    )\n",
    "    \n",
    "    def show_column_analysis(column):\n",
    "        # Basic statistics\n",
    "        print(f\"\\nSummary Statistics for {column}:\")\n",
    "        display(df[column].describe())\n",
    "        \n",
    "        # Distribution plot\n",
    "        fig = create_distribution_plot(df, column)\n",
    "        fig.show()\n",
    "        \n",
    "        # Relationship with target if numerical\n",
    "        if column != 'length_of_stay' and df[column].dtype in ['int64', 'float64']:\n",
    "            correlation = df[column].corr(df['length_of_stay'])\n",
    "            print(f\"\\nCorrelation with length_of_stay: {correlation:.3f}\")\n",
    "            \n",
    "            fig2 = px.scatter(\n",
    "                df, \n",
    "                x=column, \n",
    "                y='length_of_stay',\n",
    "                trendline='ols',\n",
    "                title=f'{column} vs Length of Stay'\n",
    "            )\n",
    "            fig2.show()\n",
    "    \n",
    "    return widgets.interact(show_column_analysis, column=dropdown)\n",
    "\n",
    "# Create and display the widget\n",
    "create_summary_widget(df)"
   ]
  },
  {
   "cell_type": "markdown",
   "metadata": {},
   "source": [
    "## 4. Target Variable Analysis"
   ]
  },
  {
   "cell_type": "code",
   "execution_count": null,
   "metadata": {},
   "outputs": [],
   "source": [
    "# Analyze length of stay distribution\n",
    "fig = go.Figure()\n",
    "\n",
    "# Add histogram\n",
    "fig.add_trace(go.Histogram(\n",
    "    x=df['length_of_stay'],\n",
    "    name='Distribution',\n",
    "    nbinsx=50\n",
    "))\n",
    "\n",
    "# Add box plot\n",
    "fig.add_trace(go.Box(\n",
    "    x=df['length_of_stay'],\n",
    "    name='Box Plot',\n",
    "    boxpoints='all',\n",
    "    jitter=0.3,\n",
    "    pointpos=-1.8\n",
    "))\n",
    "\n",
    "fig.update_layout(\n",
    "    title='Length of Stay Distribution',\n",
    "    xaxis_title='Length of Stay (days)',\n",
    "    yaxis_title='Count',\n",
    "    barmode='overlay'\n",
    ")\n",
    "\n",
    "fig.show()\n",
    "\n",
    "# Print summary statistics\n",
    "print(\"\\nLength of Stay Summary Statistics:\")\n",
    "display(df['length_of_stay'].describe())"
   ]
  },
  {
   "cell_type": "markdown",
   "metadata": {},
   "source": [
    "## 5. Save Initial Analysis\n",
    "\n",
    "Save the processed dataframe and analysis results for use in subsequent notebooks."
   ]
  },
  {
   "cell_type": "code",
   "execution_count": null,
   "metadata": {},
   "outputs": [],
   "source": [
    "# Save processed dataframe\n",
    "df.to_pickle('data/initial_df.pkl')\n",
    "\n",
    "# Save basic statistics\n",
    "data_info.to_csv('data/data_quality_summary.csv')\n",
    "\n",
    "print(\"Initial data analysis complete. Proceed to Part 2 for feature engineering.\")"
   ]
  }
 ],
 "metadata": {
  "kernelspec": {
   "display_name": "Python 3",
   "language": "python",
   "name": "python3"
  },
  "language_info": {
   "codemirror_mode": {
    "name": "ipython",
    "version": 3
   },
   "file_extension": ".py",
   "mimetype": "text/x-python",
   "name": "python",
   "nbconvert_exporter": "python",
   "pygments_lexer": "ipython3",
   "version": "3.8.0"
  }
 },
 "nbformat": 4,
 "nbformat_minor": 4
}